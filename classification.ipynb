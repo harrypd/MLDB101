{
 "cells": [
  {
   "cell_type": "markdown",
   "metadata": {
    "collapsed": true
   },
   "source": [
    "# Header1\n",
    "## Header2\n",
    "![註解pdf 才有用](https://www.google.com/images/branding/googlelogo/1x/googlelogo_color_272x92dp.png)\n",
    "\n",
    "```python\n",
    "print(\"hello\")\n",
    "```\n",
    "\n",
    "latex:\n",
    "\n",
    "$ y = \\frac {1}{2} \\times \\sqrt {x^{87}} $\n",
    "\n"
   ]
  },
  {
   "cell_type": "code",
   "execution_count": null,
   "metadata": {},
   "outputs": [],
   "source": []
  },
  {
   "cell_type": "code",
   "execution_count": null,
   "metadata": {},
   "outputs": [],
   "source": []
  }
 ],
 "metadata": {
  "kernelspec": {
   "display_name": "Python 3",
   "language": "python",
   "name": "python3"
  },
  "language_info": {
   "codemirror_mode": {
    "name": "ipython",
    "version": 3
   },
   "file_extension": ".py",
   "mimetype": "text/x-python",
   "name": "python",
   "nbconvert_exporter": "python",
   "pygments_lexer": "ipython3",
   "version": "3.7.3"
  }
 },
 "nbformat": 4,
 "nbformat_minor": 1
}
